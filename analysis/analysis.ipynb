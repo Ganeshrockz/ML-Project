{
 "cells": [
  {
   "cell_type": "markdown",
   "metadata": {},
   "source": [
    "# Preliminary Analysis "
   ]
  },
  {
   "cell_type": "code",
   "execution_count": 1,
   "metadata": {},
   "outputs": [],
   "source": [
    "#Importing required libarires\n",
    "import pandas as pd\n",
    "import seaborn as sns\n",
    "import matplotlib.pyplot as plt"
   ]
  },
  {
   "cell_type": "code",
   "execution_count": 21,
   "metadata": {},
   "outputs": [
    {
     "data": {
      "text/html": [
       "<div>\n",
       "<style>\n",
       "    .dataframe thead tr:only-child th {\n",
       "        text-align: right;\n",
       "    }\n",
       "\n",
       "    .dataframe thead th {\n",
       "        text-align: left;\n",
       "    }\n",
       "\n",
       "    .dataframe tbody tr th {\n",
       "        vertical-align: top;\n",
       "    }\n",
       "</style>\n",
       "<table border=\"1\" class=\"dataframe\">\n",
       "  <thead>\n",
       "    <tr style=\"text-align: right;\">\n",
       "      <th></th>\n",
       "      <th>movie_name</th>\n",
       "      <th>href</th>\n",
       "      <th>oscar</th>\n",
       "      <th>critics_choice</th>\n",
       "      <th>sag</th>\n",
       "      <th>bafta</th>\n",
       "      <th>pga</th>\n",
       "      <th>dga</th>\n",
       "      <th>golden_globe_mc</th>\n",
       "      <th>golden_globe_drama</th>\n",
       "      <th>...</th>\n",
       "      <th>imdb_rating</th>\n",
       "      <th>meta_score</th>\n",
       "      <th>runtime</th>\n",
       "      <th>year</th>\n",
       "      <th>rt_audience_score</th>\n",
       "      <th>rt_critic_score</th>\n",
       "      <th>distributor</th>\n",
       "      <th>domestic</th>\n",
       "      <th>genre</th>\n",
       "      <th>worldwide</th>\n",
       "    </tr>\n",
       "  </thead>\n",
       "  <tbody>\n",
       "    <tr>\n",
       "      <th>0</th>\n",
       "      <td>Dances with Wolves</td>\n",
       "      <td>https://en.wikipedia.org/wiki/Dances_with_Wolves</td>\n",
       "      <td>1</td>\n",
       "      <td>0</td>\n",
       "      <td>0</td>\n",
       "      <td>0</td>\n",
       "      <td>1</td>\n",
       "      <td>1</td>\n",
       "      <td>0</td>\n",
       "      <td>1</td>\n",
       "      <td>...</td>\n",
       "      <td>8.0</td>\n",
       "      <td>72</td>\n",
       "      <td>181</td>\n",
       "      <td>1990</td>\n",
       "      <td>3.6</td>\n",
       "      <td>7.5</td>\n",
       "      <td>Orion Pictures</td>\n",
       "      <td>184208848</td>\n",
       "      <td>Western</td>\n",
       "      <td>424208848</td>\n",
       "    </tr>\n",
       "    <tr>\n",
       "      <th>1</th>\n",
       "      <td>Awakenings</td>\n",
       "      <td>https://en.wikipedia.org/wiki/Awakenings</td>\n",
       "      <td>0</td>\n",
       "      <td>0</td>\n",
       "      <td>0</td>\n",
       "      <td>0</td>\n",
       "      <td>0</td>\n",
       "      <td>0</td>\n",
       "      <td>0</td>\n",
       "      <td>0</td>\n",
       "      <td>...</td>\n",
       "      <td>7.8</td>\n",
       "      <td>74</td>\n",
       "      <td>121</td>\n",
       "      <td>1990</td>\n",
       "      <td>3.8</td>\n",
       "      <td>6.7</td>\n",
       "      <td>Columbia</td>\n",
       "      <td>52096475</td>\n",
       "      <td>Drama</td>\n",
       "      <td>52096475</td>\n",
       "    </tr>\n",
       "    <tr>\n",
       "      <th>2</th>\n",
       "      <td>Ghost</td>\n",
       "      <td>https://en.wikipedia.org/wiki/Ghost_(1990_film)</td>\n",
       "      <td>0</td>\n",
       "      <td>0</td>\n",
       "      <td>0</td>\n",
       "      <td>0</td>\n",
       "      <td>0</td>\n",
       "      <td>0</td>\n",
       "      <td>0</td>\n",
       "      <td>0</td>\n",
       "      <td>...</td>\n",
       "      <td>7.0</td>\n",
       "      <td>52</td>\n",
       "      <td>127</td>\n",
       "      <td>1990</td>\n",
       "      <td>3.5</td>\n",
       "      <td>6.8</td>\n",
       "      <td>Paramount</td>\n",
       "      <td>217631306</td>\n",
       "      <td>Romance</td>\n",
       "      <td>505702588</td>\n",
       "    </tr>\n",
       "    <tr>\n",
       "      <th>3</th>\n",
       "      <td>The Godfather Part III</td>\n",
       "      <td>https://en.wikipedia.org/wiki/The_Godfather_Pa...</td>\n",
       "      <td>0</td>\n",
       "      <td>0</td>\n",
       "      <td>0</td>\n",
       "      <td>0</td>\n",
       "      <td>0</td>\n",
       "      <td>0</td>\n",
       "      <td>0</td>\n",
       "      <td>0</td>\n",
       "      <td>...</td>\n",
       "      <td>7.6</td>\n",
       "      <td>60</td>\n",
       "      <td>162</td>\n",
       "      <td>1990</td>\n",
       "      <td>3.8</td>\n",
       "      <td>6.4</td>\n",
       "      <td>Paramount</td>\n",
       "      <td>66666062</td>\n",
       "      <td>Crime</td>\n",
       "      <td>136766062</td>\n",
       "    </tr>\n",
       "    <tr>\n",
       "      <th>4</th>\n",
       "      <td>Goodfellas</td>\n",
       "      <td>https://en.wikipedia.org/wiki/Goodfellas</td>\n",
       "      <td>0</td>\n",
       "      <td>0</td>\n",
       "      <td>0</td>\n",
       "      <td>1</td>\n",
       "      <td>0</td>\n",
       "      <td>0</td>\n",
       "      <td>0</td>\n",
       "      <td>0</td>\n",
       "      <td>...</td>\n",
       "      <td>8.7</td>\n",
       "      <td>89</td>\n",
       "      <td>146</td>\n",
       "      <td>1990</td>\n",
       "      <td>4.3</td>\n",
       "      <td>9.0</td>\n",
       "      <td>Warner Bros.</td>\n",
       "      <td>46836214</td>\n",
       "      <td>Crime</td>\n",
       "      <td>46836214</td>\n",
       "    </tr>\n",
       "  </tbody>\n",
       "</table>\n",
       "<p>5 rows × 23 columns</p>\n",
       "</div>"
      ],
      "text/plain": [
       "               movie_name                                               href  \\\n",
       "0      Dances with Wolves   https://en.wikipedia.org/wiki/Dances_with_Wolves   \n",
       "1              Awakenings           https://en.wikipedia.org/wiki/Awakenings   \n",
       "2                   Ghost    https://en.wikipedia.org/wiki/Ghost_(1990_film)   \n",
       "3  The Godfather Part III  https://en.wikipedia.org/wiki/The_Godfather_Pa...   \n",
       "4              Goodfellas           https://en.wikipedia.org/wiki/Goodfellas   \n",
       "\n",
       "   oscar  critics_choice  sag  bafta  pga  dga  golden_globe_mc  \\\n",
       "0      1               0    0      0    1    1                0   \n",
       "1      0               0    0      0    0    0                0   \n",
       "2      0               0    0      0    0    0                0   \n",
       "3      0               0    0      0    0    0                0   \n",
       "4      0               0    0      1    0    0                0   \n",
       "\n",
       "   golden_globe_drama    ...      imdb_rating  meta_score runtime  year  \\\n",
       "0                   1    ...              8.0          72     181  1990   \n",
       "1                   0    ...              7.8          74     121  1990   \n",
       "2                   0    ...              7.0          52     127  1990   \n",
       "3                   0    ...              7.6          60     162  1990   \n",
       "4                   0    ...              8.7          89     146  1990   \n",
       "\n",
       "   rt_audience_score  rt_critic_score     distributor   domestic    genre  \\\n",
       "0                3.6              7.5  Orion Pictures  184208848  Western   \n",
       "1                3.8              6.7        Columbia   52096475    Drama   \n",
       "2                3.5              6.8       Paramount  217631306  Romance   \n",
       "3                3.8              6.4       Paramount   66666062    Crime   \n",
       "4                4.3              9.0    Warner Bros.   46836214    Crime   \n",
       "\n",
       "   worldwide  \n",
       "0  424208848  \n",
       "1   52096475  \n",
       "2  505702588  \n",
       "3  136766062  \n",
       "4   46836214  \n",
       "\n",
       "[5 rows x 23 columns]"
      ]
     },
     "execution_count": 21,
     "metadata": {},
     "output_type": "execute_result"
    }
   ],
   "source": [
    "#Importing the file\n",
    "df = pd.read_csv('....\\\\data\\\\input.csv')\n",
    "\n",
    "#Taking a quick look at the data\n",
    "df.head()"
   ]
  },
  {
   "cell_type": "markdown",
   "metadata": {},
   "source": [
    "# 'Other' Awards\n",
    "\n",
    "We know that other awards presented preceding the oscar week will be a good indicator. Let's see if that its true.\n",
    "If so, let's see visually and see which awards influences most."
   ]
  },
  {
   "cell_type": "code",
   "execution_count": 4,
   "metadata": {},
   "outputs": [],
   "source": [
    "#Sub-setting dataframe\n",
    "winning_awards = df[['oscar', 'critics_choice', 'pga', 'bafta', 'wga_os','wga_as','sag','golden_globe_mc','golden_globe_drama']]\n",
    "y = winning_awards[(winning_awards['oscar'] == 1)]\n"
   ]
  },
  {
   "cell_type": "code",
   "execution_count": 15,
   "metadata": {},
   "outputs": [
    {
     "data": {
      "text/plain": [
       "<matplotlib.axes._subplots.AxesSubplot at 0x45a13a7ac8>"
      ]
     },
     "execution_count": 15,
     "metadata": {},
     "output_type": "execute_result"
    },
    {
     "data": {
      "image/png": "[encoded data removed]",
      "text/plain": [
       "<matplotlib.figure.Figure at 0x45a0d67b70>"
      ]
     },
     "metadata": {},
     "output_type": "display_data"
    }
   ],
   "source": [
    "#Plotting\n",
    "fig, (ax1, ax2, ax3, ax4, ax5, ax6, ax7, ax8) = plt.subplots(figsize=(14,7),ncols=8, sharey=True)\n",
    "\n",
    "sns.countplot(x=\"critics_choice\", data=y, ax=ax1)\n",
    "sns.countplot(x=\"pga\", data=y, ax=ax2)\n",
    "sns.countplot(x=\"bafta\", data=y, ax=ax3)\n",
    "sns.countplot(x=\"wga_os\", data=y, ax=ax4)\n",
    "sns.countplot(x=\"wga_as\", data=y, ax=ax5)\n",
    "sns.countplot(x=\"sag\", data=y, ax=ax6)\n",
    "sns.countplot(x=\"golden_globe_mc\", data=y, ax=ax7)\n",
    "sns.countplot(x=\"golden_globe_drama\", data=y, ax=ax8)"
   ]
  },
  {
   "cell_type": "markdown",
   "metadata": {},
   "source": [
    "Looks like __Producers Guild of America Awards, BAFTA, Critics Choice Awards__ are the major predictors."
   ]
  },
  {
   "cell_type": "markdown",
   "metadata": {},
   "source": [
    "# Genre"
   ]
  },
  {
   "cell_type": "markdown",
   "metadata": {},
   "source": [
    "Let's visually take a look at which genre movies are most likely to be nominated."
   ]
  },
  {
   "cell_type": "code",
   "execution_count": 16,
   "metadata": {
    "scrolled": true
   },
   "outputs": [
    {
     "data": {
      "text/plain": [
       "<matplotlib.axes._subplots.AxesSubplot at 0x45a03e66a0>"
      ]
     },
     "execution_count": 16,
     "metadata": {},
     "output_type": "execute_result"
    },
    {
     "data": {
      "image/png": "[encoded data removed]",
      "text/plain": [
       "<matplotlib.figure.Figure at 0x459f7f5898>"
      ]
     },
     "metadata": {},
     "output_type": "display_data"
    }
   ],
   "source": [
    "#Plotting\n",
    "f, axis = plt.subplots(figsize=(14, 7))\n",
    "sns.countplot(x='genre', data=df)"
   ]
  },
  {
   "cell_type": "markdown",
   "metadata": {},
   "source": [
    "__Boy! That escalated quickly.__"
   ]
  },
  {
   "cell_type": "code",
   "execution_count": 18,
   "metadata": {},
   "outputs": [
    {
     "data": {
      "text/plain": [
       "<matplotlib.axes._subplots.AxesSubplot at 0x45a14fe3c8>"
      ]
     },
     "execution_count": 18,
     "metadata": {},
     "output_type": "execute_result"
    },
    {
     "data": {
      "image/png": "[encoded data removed]",
      "text/plain": [
       "<matplotlib.figure.Figure at 0x45a14a4d68>"
      ]
     },
     "metadata": {},
     "output_type": "display_data"
    }
   ],
   "source": [
    "#Plotting\n",
    "f, axis = plt.subplots(figsize=(14, 7))\n",
    "sns.countplot(x='genre', hue='oscar', data=df)"
   ]
  },
  {
   "cell_type": "markdown",
   "metadata": {},
   "source": [
    "Conclusion is, movies in the __Drama__ genre are more likely to win an oscar."
   ]
  },
  {
   "cell_type": "markdown",
   "metadata": {},
   "source": [
    "# Certificate\n"
   ]
  },
  {
   "cell_type": "code",
   "execution_count": 20,
   "metadata": {},
   "outputs": [
    {
     "data": {
      "text/plain": [
       "<matplotlib.axes._subplots.AxesSubplot at 0x45a1c66a90>"
      ]
     },
     "execution_count": 20,
     "metadata": {},
     "output_type": "execute_result"
    },
    {
     "data": {
      "image/png": "[encoded data removed]",
      "text/plain": [
       "<matplotlib.figure.Figure at 0x45a1c856d8>"
      ]
     },
     "metadata": {},
     "output_type": "display_data"
    }
   ],
   "source": [
    "#Plotting\n",
    "f, axis = plt.subplots(figsize=(7, 7))\n",
    "sns.countplot(x='certificate', data=df)\n"
   ]
  },
  {
   "cell_type": "markdown",
   "metadata": {},
   "source": [
    "I didn't expect this output. It seems __R__ rated movies have the most likely chance to grab an oscar."
   ]
  },
  {
   "cell_type": "markdown",
   "metadata": {},
   "source": [
    "# Distributor\n",
    "\n",
    "Let's see if any particular distributor has a magic wand."
   ]
  },
  {
   "cell_type": "code",
   "execution_count": 19,
   "metadata": {},
   "outputs": [
    {
     "data": {
      "text/plain": [
       "<matplotlib.axes._subplots.AxesSubplot at 0x45a1739588>"
      ]
     },
     "execution_count": 19,
     "metadata": {},
     "output_type": "execute_result"
    },
    {
     "data": {
      "image/png": "[encoded data removed]",
      "text/plain": [
       "<matplotlib.figure.Figure at 0x45a174dfd0>"
      ]
     },
     "metadata": {},
     "output_type": "display_data"
    }
   ],
   "source": [
    "#Plotting\n",
    "f, axis = plt.subplots(figsize=(14, 7))\n",
    "sns.countplot(y='distributor', data=df)"
   ]
  },
  {
   "cell_type": "markdown",
   "metadata": {},
   "source": [
    "It shows that __Warner Bros__ and __Paramount__ are competing in the oscar market.\n",
    "\n",
    "Well, we all know this landscape is gonna change soon because of these new guys in the market. C'mon, you know who those are."
   ]
  },
  {
   "cell_type": "code",
   "execution_count": null,
   "metadata": {},
   "outputs": [],
   "source": []
  }
 ],
 "metadata": {
  "kernelspec": {
   "display_name": "Python 3",
   "language": "python",
   "name": "python3"
  },
  "language_info": {
   "codemirror_mode": {
    "name": "ipython",
    "version": 3
   },
   "file_extension": ".py",
   "mimetype": "text/x-python",
   "name": "python",
   "nbconvert_exporter": "python",
   "pygments_lexer": "ipython3",
   "version": "3.6.3"
  }
 },
 "nbformat": 4,
 "nbformat_minor": 2
}
